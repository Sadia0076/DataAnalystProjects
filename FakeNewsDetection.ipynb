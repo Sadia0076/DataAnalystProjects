{
  "nbformat": 4,
  "nbformat_minor": 0,
  "metadata": {
    "colab": {
      "provenance": []
    },
    "kernelspec": {
      "name": "python3",
      "display_name": "Python 3"
    },
    "language_info": {
      "name": "python"
    }
  },
  "cells": [
    {
      "cell_type": "code",
      "execution_count": null,
      "metadata": {
        "id": "MgvYxfNne2bC"
      },
      "outputs": [],
      "source": [
        "import pandas as pd\n",
        "import numpy as np\n",
        "import re\n",
        "import string\n",
        "\n",
        "# Text Processing\n",
        "import nltk\n",
        "from nltk.tokenize import word_tokenize, WhitespaceTokenizer, RegexpTokenizer\n",
        "from nltk.stem import PorterStemmer, WordNetLemmatizer\n",
        "from nltk.corpus import stopwords\n",
        "from nltk import pos_tag\n",
        "from sklearn.feature_extraction.text import TfidfVectorizer\n",
        "\n",
        "# ML Libraries\n",
        "from sklearn.model_selection import train_test_split\n",
        "from sklearn.linear_model import LogisticRegression\n",
        "from sklearn.metrics import classification_report, accuracy_score\n"
      ]
    },
    {
      "cell_type": "code",
      "source": [
        "fake_df = pd.read_csv('/content/Fake.csv')\n",
        "true_df = pd.read_csv('/content/True.csv')\n"
      ],
      "metadata": {
        "id": "lQakWmxLjfza"
      },
      "execution_count": null,
      "outputs": []
    },
    {
      "cell_type": "markdown",
      "source": [
        " Add a label to both"
      ],
      "metadata": {
        "id": "t0xEvWvJjx7M"
      }
    },
    {
      "cell_type": "code",
      "source": [
        "fake_df['label'] = 0  # Fake news\n",
        "true_df['label'] = 1  # Real news\n",
        "\n",
        "# Combine both datasets\n",
        "df = pd.concat([fake_df, true_df])\n",
        "df = df[['text', 'label']]  # Use only text and label\n",
        "df = df.sample(frac=1).reset_index(drop=True)  # Shuffle rows\n"
      ],
      "metadata": {
        "id": "6ohBC74fj0qk"
      },
      "execution_count": null,
      "outputs": []
    },
    {
      "cell_type": "markdown",
      "source": [
        "Preprocess the Text"
      ],
      "metadata": {
        "id": "28V-U4ERkyaj"
      }
    },
    {
      "cell_type": "code",
      "source": [
        "def clean_text(text):\n",
        "    text = text.lower()  # Normalize\n",
        "    text = re.sub(r'\\[.*?\\]', '', text)  # Remove square brackets\n",
        "    text = re.sub(r'https?://\\S+|www\\.\\S+', '', text)  # Remove URLs\n",
        "    text = re.sub(r'<.*?>+', '', text)  # Remove HTML\n",
        "    text = re.sub(r'[^a-z\\s]', '', text)  # Remove punctuation & numbers\n",
        "    return text\n"
      ],
      "metadata": {
        "id": "tTa11pCpk1BJ"
      },
      "execution_count": null,
      "outputs": []
    },
    {
      "cell_type": "code",
      "source": [
        "df['clean_text'] = df['text'].apply(clean_text)\n"
      ],
      "metadata": {
        "id": "tBNgXm0slCtQ"
      },
      "execution_count": null,
      "outputs": []
    },
    {
      "cell_type": "markdown",
      "source": [
        " Tokenization"
      ],
      "metadata": {
        "id": "lEikzQpElIlG"
      }
    },
    {
      "cell_type": "code",
      "source": [
        "# White space tokenizer\n",
        "wst = WhitespaceTokenizer()\n",
        "df['tokens_whitespace'] = df['clean_text'].apply(wst.tokenize)\n",
        "\n",
        "# Regular expression tokenizer\n",
        "regexp_tokenizer = RegexpTokenizer(r'\\w+')\n",
        "df['tokens_regexp'] = df['clean_text'].apply(regexp_tokenizer.tokenize)\n"
      ],
      "metadata": {
        "id": "JUXjvzHzlNtg"
      },
      "execution_count": null,
      "outputs": []
    },
    {
      "cell_type": "code",
      "source": [
        "nltk.download('punkt')\n",
        "nltk.download('stopwords')\n",
        "nltk.download('wordnet')\n",
        "nltk.download('averaged_perceptron_tagger')\n"
      ],
      "metadata": {
        "colab": {
          "base_uri": "https://localhost:8080/"
        },
        "id": "7jk_-O1zl0nl",
        "outputId": "7f61c7c5-0e27-4b1f-af62-d0b8d1b0e547"
      },
      "execution_count": null,
      "outputs": [
        {
          "output_type": "stream",
          "name": "stderr",
          "text": [
            "[nltk_data] Downloading package punkt to /root/nltk_data...\n",
            "[nltk_data]   Unzipping tokenizers/punkt.zip.\n",
            "[nltk_data] Downloading package stopwords to /root/nltk_data...\n",
            "[nltk_data]   Unzipping corpora/stopwords.zip.\n",
            "[nltk_data] Downloading package wordnet to /root/nltk_data...\n",
            "[nltk_data] Downloading package averaged_perceptron_tagger to\n",
            "[nltk_data]     /root/nltk_data...\n",
            "[nltk_data]   Unzipping taggers/averaged_perceptron_tagger.zip.\n"
          ]
        },
        {
          "output_type": "execute_result",
          "data": {
            "text/plain": [
              "True"
            ]
          },
          "metadata": {},
          "execution_count": 9
        }
      ]
    },
    {
      "cell_type": "markdown",
      "source": [
        "Stopwords Removal"
      ],
      "metadata": {
        "id": "mBWfceD6l_0Y"
      }
    },
    {
      "cell_type": "code",
      "source": [
        "stop_words = set(stopwords.words('english'))\n",
        "\n",
        "def remove_stopwords(tokens):\n",
        "    return [word for word in tokens if word not in stop_words]\n",
        "\n",
        "df['tokens_cleaned'] = df['tokens_regexp'].apply(remove_stopwords)\n"
      ],
      "metadata": {
        "id": "FtqaIdSil4bm"
      },
      "execution_count": null,
      "outputs": []
    },
    {
      "cell_type": "markdown",
      "source": [
        "Stemming and Lemmatization"
      ],
      "metadata": {
        "id": "MJ_JyPE_pqua"
      }
    },
    {
      "cell_type": "code",
      "source": [
        "stemmer = PorterStemmer()\n",
        "lemmatizer = WordNetLemmatizer()\n",
        "\n",
        "# Apply both\n",
        "df['stemmed'] = df['tokens_cleaned'].apply(lambda tokens: [stemmer.stem(w) for w in tokens])\n",
        "df['lemmatized'] = df['tokens_cleaned'].apply(lambda tokens: [lemmatizer.lemmatize(w) for w in tokens])\n"
      ],
      "metadata": {
        "id": "UrS1Yot0nx1I"
      },
      "execution_count": 14,
      "outputs": []
    },
    {
      "cell_type": "markdown",
      "source": [
        " Convert Text to Numbers with TF-IDF"
      ],
      "metadata": {
        "id": "STO_gH-_ptKl"
      }
    },
    {
      "cell_type": "code",
      "source": [
        "# Join tokens back into sentence\n",
        "df['final_text'] = df['lemmatized'].apply(lambda x: ' '.join(x))\n",
        "\n",
        "# Vectorize\n",
        "tfidf = TfidfVectorizer(ngram_range=(1,2))  # Using n-grams (unigram + bigram)\n",
        "X = tfidf.fit_transform(df['final_text'])\n",
        "y = df['label']\n"
      ],
      "metadata": {
        "id": "tmFtYuuDpjkB"
      },
      "execution_count": 15,
      "outputs": []
    },
    {
      "cell_type": "markdown",
      "source": [
        "Split Data into Training and Testing"
      ],
      "metadata": {
        "id": "_Pa27Goyp75a"
      }
    },
    {
      "cell_type": "code",
      "source": [
        "X_train, X_test, y_train, y_test = train_test_split(X, y, test_size=0.2, random_state=42)\n"
      ],
      "metadata": {
        "id": "y9NH86Y4p87h"
      },
      "execution_count": 16,
      "outputs": []
    },
    {
      "cell_type": "markdown",
      "source": [
        "Logistic Regression Model (Supervised Learning)"
      ],
      "metadata": {
        "id": "Tlq_pM3VqG4F"
      }
    },
    {
      "cell_type": "code",
      "source": [
        "model = LogisticRegression()\n",
        "model.fit(X_train, y_train)\n",
        "y_pred = model.predict(X_test)\n"
      ],
      "metadata": {
        "id": "g4G47oW5qMOI"
      },
      "execution_count": 17,
      "outputs": []
    },
    {
      "cell_type": "code",
      "source": [],
      "metadata": {
        "id": "afajNLDrr1oK"
      },
      "execution_count": null,
      "outputs": []
    },
    {
      "cell_type": "markdown",
      "source": [
        "Evaluation"
      ],
      "metadata": {
        "id": "Xvq7vEFGrPqF"
      }
    },
    {
      "cell_type": "code",
      "source": [
        "print(\"Accuracy:\", accuracy_score(y_test, y_pred))\n",
        "print(\"Classification Report:\\n\", classification_report(y_test, y_pred))\n"
      ],
      "metadata": {
        "colab": {
          "base_uri": "https://localhost:8080/"
        },
        "id": "PeA0pFJDqWa6",
        "outputId": "d8f1b0c2-4158-40dd-a694-292488697395"
      },
      "execution_count": 18,
      "outputs": [
        {
          "output_type": "stream",
          "name": "stdout",
          "text": [
            "Accuracy: 0.987305122494432\n",
            "Classification Report:\n",
            "               precision    recall  f1-score   support\n",
            "\n",
            "           0       0.99      0.99      0.99      4731\n",
            "           1       0.99      0.99      0.99      4249\n",
            "\n",
            "    accuracy                           0.99      8980\n",
            "   macro avg       0.99      0.99      0.99      8980\n",
            "weighted avg       0.99      0.99      0.99      8980\n",
            "\n"
          ]
        }
      ]
    },
    {
      "cell_type": "markdown",
      "source": [
        "Sigmoid Function (used inside logistic regression)"
      ],
      "metadata": {
        "id": "eXCpimzsqrLC"
      }
    },
    {
      "cell_type": "code",
      "source": [
        "import numpy as np\n",
        "\n",
        "def sigmoid(z):\n",
        "    return 1 / (1 + np.exp(-z))\n",
        "\n",
        "z = 0.5\n",
        "print(\"Sigmoid of\", z, \"=\", sigmoid(z))\n"
      ],
      "metadata": {
        "colab": {
          "base_uri": "https://localhost:8080/"
        },
        "id": "AmGlBiHMqdb1",
        "outputId": "b929204b-7557-4425-845c-e2aefe87006c"
      },
      "execution_count": 19,
      "outputs": [
        {
          "output_type": "stream",
          "name": "stdout",
          "text": [
            "Sigmoid of 0.5 = 0.6224593312018546\n"
          ]
        }
      ]
    },
    {
      "cell_type": "code",
      "source": [
        "# Define preprocessing function\n",
        "def preprocess_text(text):\n",
        "    text = clean_text(text)\n",
        "    tokens = regexp_tokenizer.tokenize(text)\n",
        "    tokens = remove_stopwords(tokens)\n",
        "    lemmatized = [lemmatizer.lemmatize(w) for w in tokens]\n",
        "    final_text = ' '.join(lemmatized)\n",
        "    return final_text\n",
        "\n",
        "# Test news\n",
        "test_news = \"Breaking: Scientists discover a new planet in our solar system!\"\n",
        "\n",
        "# Predict\n",
        "preprocessed = preprocess_text(test_news)\n",
        "vectorized = tfidf.transform([preprocessed])\n",
        "prediction = model.predict(vectorized)[0]\n",
        "\n",
        "if prediction == 0:\n",
        "    print(\"🟥 This news is most likely FAKE.\")\n",
        "else:\n",
        "    print(\"✅ This news is most likely REAL.\")\n"
      ],
      "metadata": {
        "colab": {
          "base_uri": "https://localhost:8080/"
        },
        "id": "vtYnU_oHsbIH",
        "outputId": "bbf1338b-5dfc-4bde-d50e-55470129203e"
      },
      "execution_count": 22,
      "outputs": [
        {
          "output_type": "stream",
          "name": "stdout",
          "text": [
            "🟥 This news is most likely FAKE.\n"
          ]
        }
      ]
    }
  ]
}